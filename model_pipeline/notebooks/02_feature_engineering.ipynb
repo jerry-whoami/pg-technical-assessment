{
 "cells": [
  {
   "cell_type": "markdown",
   "id": "bf0d24a7",
   "metadata": {},
   "source": [
    "# Food Delivery Time Prediction\n",
    "\n",
    "The goals of this notebook are:\n",
    "\n",
    "- Load the dataset\n",
    "- Create and refine features where needed\n",
    "- Export cleaned data for further testing when training models"
   ]
  },
  {
   "cell_type": "code",
   "execution_count": 18,
   "id": "22c4b908",
   "metadata": {},
   "outputs": [],
   "source": [
    "import numpy as np\n",
    "import pandas as pd\n",
    "import random\n",
    "from sklearn.impute import SimpleImputer\n",
    "from sklearn.preprocessing import OneHotEncoder, OrdinalEncoder"
   ]
  },
  {
   "cell_type": "code",
   "execution_count": 19,
   "id": "3c809bcc",
   "metadata": {},
   "outputs": [],
   "source": [
    "SEED = 7\n",
    "TARGET = \"Delivery_Time_min\"\n",
    "\n",
    "random.seed(SEED)\n",
    "np.random.seed(SEED)"
   ]
  },
  {
   "cell_type": "code",
   "execution_count": 20,
   "id": "ddd1c65f",
   "metadata": {},
   "outputs": [],
   "source": [
    "df = pd.read_csv('../data/food_delivery_data.csv')"
   ]
  },
  {
   "cell_type": "code",
   "execution_count": 21,
   "id": "1fc336e4",
   "metadata": {},
   "outputs": [
    {
     "data": {
      "text/html": [
       "<div>\n",
       "<style scoped>\n",
       "    .dataframe tbody tr th:only-of-type {\n",
       "        vertical-align: middle;\n",
       "    }\n",
       "\n",
       "    .dataframe tbody tr th {\n",
       "        vertical-align: top;\n",
       "    }\n",
       "\n",
       "    .dataframe thead th {\n",
       "        text-align: right;\n",
       "    }\n",
       "</style>\n",
       "<table border=\"1\" class=\"dataframe\">\n",
       "  <thead>\n",
       "    <tr style=\"text-align: right;\">\n",
       "      <th></th>\n",
       "      <th>Order_ID</th>\n",
       "      <th>Distance_km</th>\n",
       "      <th>Weather</th>\n",
       "      <th>Traffic_Level</th>\n",
       "      <th>Time_of_Day</th>\n",
       "      <th>Vehicle_Type</th>\n",
       "      <th>Preparation_Time_min</th>\n",
       "      <th>Courier_Experience_yrs</th>\n",
       "      <th>Delivery_Time_min</th>\n",
       "    </tr>\n",
       "  </thead>\n",
       "  <tbody>\n",
       "    <tr>\n",
       "      <th>0</th>\n",
       "      <td>522</td>\n",
       "      <td>7.93</td>\n",
       "      <td>Windy</td>\n",
       "      <td>Low</td>\n",
       "      <td>Afternoon</td>\n",
       "      <td>Scooter</td>\n",
       "      <td>12</td>\n",
       "      <td>1.0</td>\n",
       "      <td>43</td>\n",
       "    </tr>\n",
       "    <tr>\n",
       "      <th>1</th>\n",
       "      <td>738</td>\n",
       "      <td>16.42</td>\n",
       "      <td>Clear</td>\n",
       "      <td>Medium</td>\n",
       "      <td>Evening</td>\n",
       "      <td>Bike</td>\n",
       "      <td>20</td>\n",
       "      <td>2.0</td>\n",
       "      <td>84</td>\n",
       "    </tr>\n",
       "    <tr>\n",
       "      <th>2</th>\n",
       "      <td>741</td>\n",
       "      <td>9.52</td>\n",
       "      <td>Foggy</td>\n",
       "      <td>Low</td>\n",
       "      <td>Night</td>\n",
       "      <td>Scooter</td>\n",
       "      <td>28</td>\n",
       "      <td>1.0</td>\n",
       "      <td>59</td>\n",
       "    </tr>\n",
       "    <tr>\n",
       "      <th>3</th>\n",
       "      <td>661</td>\n",
       "      <td>7.44</td>\n",
       "      <td>Rainy</td>\n",
       "      <td>Medium</td>\n",
       "      <td>Afternoon</td>\n",
       "      <td>Scooter</td>\n",
       "      <td>5</td>\n",
       "      <td>1.0</td>\n",
       "      <td>37</td>\n",
       "    </tr>\n",
       "    <tr>\n",
       "      <th>4</th>\n",
       "      <td>412</td>\n",
       "      <td>19.03</td>\n",
       "      <td>Clear</td>\n",
       "      <td>Low</td>\n",
       "      <td>Morning</td>\n",
       "      <td>Bike</td>\n",
       "      <td>16</td>\n",
       "      <td>5.0</td>\n",
       "      <td>68</td>\n",
       "    </tr>\n",
       "  </tbody>\n",
       "</table>\n",
       "</div>"
      ],
      "text/plain": [
       "   Order_ID  Distance_km Weather Traffic_Level Time_of_Day Vehicle_Type  \\\n",
       "0       522         7.93   Windy           Low   Afternoon      Scooter   \n",
       "1       738        16.42   Clear        Medium     Evening         Bike   \n",
       "2       741         9.52   Foggy           Low       Night      Scooter   \n",
       "3       661         7.44   Rainy        Medium   Afternoon      Scooter   \n",
       "4       412        19.03   Clear           Low     Morning         Bike   \n",
       "\n",
       "   Preparation_Time_min  Courier_Experience_yrs  Delivery_Time_min  \n",
       "0                    12                     1.0                 43  \n",
       "1                    20                     2.0                 84  \n",
       "2                    28                     1.0                 59  \n",
       "3                     5                     1.0                 37  \n",
       "4                    16                     5.0                 68  "
      ]
     },
     "execution_count": 21,
     "metadata": {},
     "output_type": "execute_result"
    }
   ],
   "source": [
    "df.head()"
   ]
  },
  {
   "cell_type": "markdown",
   "id": "0fb34535",
   "metadata": {},
   "source": [
    "## Feature Engineering"
   ]
  },
  {
   "cell_type": "markdown",
   "id": "f97bd09c",
   "metadata": {},
   "source": [
    "### Handle Missing Values"
   ]
  },
  {
   "cell_type": "code",
   "execution_count": 22,
   "id": "7db20a88",
   "metadata": {},
   "outputs": [
    {
     "data": {
      "text/plain": [
       "Order_ID                   0\n",
       "Distance_km                0\n",
       "Weather                   30\n",
       "Traffic_Level             30\n",
       "Time_of_Day               30\n",
       "Vehicle_Type               0\n",
       "Preparation_Time_min       0\n",
       "Courier_Experience_yrs    30\n",
       "Delivery_Time_min          0\n",
       "dtype: int64"
      ]
     },
     "execution_count": 22,
     "metadata": {},
     "output_type": "execute_result"
    }
   ],
   "source": [
    "df.isna().sum()"
   ]
  },
  {
   "cell_type": "code",
   "execution_count": 23,
   "id": "9d9e4ffb",
   "metadata": {},
   "outputs": [],
   "source": [
    "cols = [\"Weather\", \"Traffic_Level\", \"Time_of_Day\"]\n",
    "\n",
    "constant_imputer = SimpleImputer(strategy=\"most_frequent\")\n",
    "df[cols] = constant_imputer.fit_transform(df[cols])"
   ]
  },
  {
   "cell_type": "code",
   "execution_count": 24,
   "id": "aef58d5c",
   "metadata": {},
   "outputs": [],
   "source": [
    "cols = [\"Courier_Experience_yrs\"]\n",
    "\n",
    "median_imputer = SimpleImputer(strategy=\"median\")\n",
    "df[cols] = median_imputer.fit_transform(df[cols])"
   ]
  },
  {
   "cell_type": "code",
   "execution_count": 25,
   "id": "d4bd1bab",
   "metadata": {},
   "outputs": [
    {
     "data": {
      "text/plain": [
       "Order_ID                  0\n",
       "Distance_km               0\n",
       "Weather                   0\n",
       "Traffic_Level             0\n",
       "Time_of_Day               0\n",
       "Vehicle_Type              0\n",
       "Preparation_Time_min      0\n",
       "Courier_Experience_yrs    0\n",
       "Delivery_Time_min         0\n",
       "dtype: int64"
      ]
     },
     "execution_count": 25,
     "metadata": {},
     "output_type": "execute_result"
    }
   ],
   "source": [
    "df.isna().sum()"
   ]
  },
  {
   "cell_type": "markdown",
   "id": "8409d2b3",
   "metadata": {},
   "source": [
    "### Encode Categorical Columns"
   ]
  },
  {
   "cell_type": "code",
   "execution_count": 26,
   "id": "a45d60c9",
   "metadata": {},
   "outputs": [],
   "source": [
    "cols = [\"Weather\", \"Time_of_Day\", \"Vehicle_Type\", \"Traffic_Level\"]\n",
    "\n",
    "onehot_encoder = OneHotEncoder(sparse_output=False)\n",
    "encoded_array = onehot_encoder.fit_transform(df[cols])\n",
    "encoded_cols = onehot_encoder.get_feature_names_out(cols)\n",
    "\n",
    "encoded_df = pd.DataFrame(encoded_array, columns=encoded_cols)\n",
    "\n",
    "df = pd.concat([df.drop(columns=cols), encoded_df], axis=1)"
   ]
  },
  {
   "cell_type": "code",
   "execution_count": null,
   "id": "5af143d0",
   "metadata": {},
   "outputs": [],
   "source": [
    "# Remove Traffic_Level from onehot encoding columns if using ordinal encoding\n",
    "cols = [\"Traffic_Level\"]\n",
    "\n",
    "ordinal_enconder = OrdinalEncoder()\n",
    "df[cols] = ordinal_enconder.fit_transform(df[cols])"
   ]
  },
  {
   "cell_type": "code",
   "execution_count": 28,
   "id": "d2e78df2",
   "metadata": {},
   "outputs": [
    {
     "data": {
      "text/html": [
       "<div>\n",
       "<style scoped>\n",
       "    .dataframe tbody tr th:only-of-type {\n",
       "        vertical-align: middle;\n",
       "    }\n",
       "\n",
       "    .dataframe tbody tr th {\n",
       "        vertical-align: top;\n",
       "    }\n",
       "\n",
       "    .dataframe thead th {\n",
       "        text-align: right;\n",
       "    }\n",
       "</style>\n",
       "<table border=\"1\" class=\"dataframe\">\n",
       "  <thead>\n",
       "    <tr style=\"text-align: right;\">\n",
       "      <th></th>\n",
       "      <th>Order_ID</th>\n",
       "      <th>Distance_km</th>\n",
       "      <th>Preparation_Time_min</th>\n",
       "      <th>Courier_Experience_yrs</th>\n",
       "      <th>Delivery_Time_min</th>\n",
       "      <th>Weather_Clear</th>\n",
       "      <th>Weather_Foggy</th>\n",
       "      <th>Weather_Rainy</th>\n",
       "      <th>Weather_Snowy</th>\n",
       "      <th>Weather_Windy</th>\n",
       "      <th>Time_of_Day_Afternoon</th>\n",
       "      <th>Time_of_Day_Evening</th>\n",
       "      <th>Time_of_Day_Morning</th>\n",
       "      <th>Time_of_Day_Night</th>\n",
       "      <th>Vehicle_Type_Bike</th>\n",
       "      <th>Vehicle_Type_Car</th>\n",
       "      <th>Vehicle_Type_Scooter</th>\n",
       "      <th>Traffic_Level_High</th>\n",
       "      <th>Traffic_Level_Low</th>\n",
       "      <th>Traffic_Level_Medium</th>\n",
       "    </tr>\n",
       "  </thead>\n",
       "  <tbody>\n",
       "    <tr>\n",
       "      <th>0</th>\n",
       "      <td>522</td>\n",
       "      <td>7.93</td>\n",
       "      <td>12</td>\n",
       "      <td>1.0</td>\n",
       "      <td>43</td>\n",
       "      <td>0.0</td>\n",
       "      <td>0.0</td>\n",
       "      <td>0.0</td>\n",
       "      <td>0.0</td>\n",
       "      <td>1.0</td>\n",
       "      <td>1.0</td>\n",
       "      <td>0.0</td>\n",
       "      <td>0.0</td>\n",
       "      <td>0.0</td>\n",
       "      <td>0.0</td>\n",
       "      <td>0.0</td>\n",
       "      <td>1.0</td>\n",
       "      <td>0.0</td>\n",
       "      <td>1.0</td>\n",
       "      <td>0.0</td>\n",
       "    </tr>\n",
       "    <tr>\n",
       "      <th>1</th>\n",
       "      <td>738</td>\n",
       "      <td>16.42</td>\n",
       "      <td>20</td>\n",
       "      <td>2.0</td>\n",
       "      <td>84</td>\n",
       "      <td>1.0</td>\n",
       "      <td>0.0</td>\n",
       "      <td>0.0</td>\n",
       "      <td>0.0</td>\n",
       "      <td>0.0</td>\n",
       "      <td>0.0</td>\n",
       "      <td>1.0</td>\n",
       "      <td>0.0</td>\n",
       "      <td>0.0</td>\n",
       "      <td>1.0</td>\n",
       "      <td>0.0</td>\n",
       "      <td>0.0</td>\n",
       "      <td>0.0</td>\n",
       "      <td>0.0</td>\n",
       "      <td>1.0</td>\n",
       "    </tr>\n",
       "    <tr>\n",
       "      <th>2</th>\n",
       "      <td>741</td>\n",
       "      <td>9.52</td>\n",
       "      <td>28</td>\n",
       "      <td>1.0</td>\n",
       "      <td>59</td>\n",
       "      <td>0.0</td>\n",
       "      <td>1.0</td>\n",
       "      <td>0.0</td>\n",
       "      <td>0.0</td>\n",
       "      <td>0.0</td>\n",
       "      <td>0.0</td>\n",
       "      <td>0.0</td>\n",
       "      <td>0.0</td>\n",
       "      <td>1.0</td>\n",
       "      <td>0.0</td>\n",
       "      <td>0.0</td>\n",
       "      <td>1.0</td>\n",
       "      <td>0.0</td>\n",
       "      <td>1.0</td>\n",
       "      <td>0.0</td>\n",
       "    </tr>\n",
       "    <tr>\n",
       "      <th>3</th>\n",
       "      <td>661</td>\n",
       "      <td>7.44</td>\n",
       "      <td>5</td>\n",
       "      <td>1.0</td>\n",
       "      <td>37</td>\n",
       "      <td>0.0</td>\n",
       "      <td>0.0</td>\n",
       "      <td>1.0</td>\n",
       "      <td>0.0</td>\n",
       "      <td>0.0</td>\n",
       "      <td>1.0</td>\n",
       "      <td>0.0</td>\n",
       "      <td>0.0</td>\n",
       "      <td>0.0</td>\n",
       "      <td>0.0</td>\n",
       "      <td>0.0</td>\n",
       "      <td>1.0</td>\n",
       "      <td>0.0</td>\n",
       "      <td>0.0</td>\n",
       "      <td>1.0</td>\n",
       "    </tr>\n",
       "    <tr>\n",
       "      <th>4</th>\n",
       "      <td>412</td>\n",
       "      <td>19.03</td>\n",
       "      <td>16</td>\n",
       "      <td>5.0</td>\n",
       "      <td>68</td>\n",
       "      <td>1.0</td>\n",
       "      <td>0.0</td>\n",
       "      <td>0.0</td>\n",
       "      <td>0.0</td>\n",
       "      <td>0.0</td>\n",
       "      <td>0.0</td>\n",
       "      <td>0.0</td>\n",
       "      <td>1.0</td>\n",
       "      <td>0.0</td>\n",
       "      <td>1.0</td>\n",
       "      <td>0.0</td>\n",
       "      <td>0.0</td>\n",
       "      <td>0.0</td>\n",
       "      <td>1.0</td>\n",
       "      <td>0.0</td>\n",
       "    </tr>\n",
       "  </tbody>\n",
       "</table>\n",
       "</div>"
      ],
      "text/plain": [
       "   Order_ID  Distance_km  Preparation_Time_min  Courier_Experience_yrs  \\\n",
       "0       522         7.93                    12                     1.0   \n",
       "1       738        16.42                    20                     2.0   \n",
       "2       741         9.52                    28                     1.0   \n",
       "3       661         7.44                     5                     1.0   \n",
       "4       412        19.03                    16                     5.0   \n",
       "\n",
       "   Delivery_Time_min  Weather_Clear  Weather_Foggy  Weather_Rainy  \\\n",
       "0                 43            0.0            0.0            0.0   \n",
       "1                 84            1.0            0.0            0.0   \n",
       "2                 59            0.0            1.0            0.0   \n",
       "3                 37            0.0            0.0            1.0   \n",
       "4                 68            1.0            0.0            0.0   \n",
       "\n",
       "   Weather_Snowy  Weather_Windy  Time_of_Day_Afternoon  Time_of_Day_Evening  \\\n",
       "0            0.0            1.0                    1.0                  0.0   \n",
       "1            0.0            0.0                    0.0                  1.0   \n",
       "2            0.0            0.0                    0.0                  0.0   \n",
       "3            0.0            0.0                    1.0                  0.0   \n",
       "4            0.0            0.0                    0.0                  0.0   \n",
       "\n",
       "   Time_of_Day_Morning  Time_of_Day_Night  Vehicle_Type_Bike  \\\n",
       "0                  0.0                0.0                0.0   \n",
       "1                  0.0                0.0                1.0   \n",
       "2                  0.0                1.0                0.0   \n",
       "3                  0.0                0.0                0.0   \n",
       "4                  1.0                0.0                1.0   \n",
       "\n",
       "   Vehicle_Type_Car  Vehicle_Type_Scooter  Traffic_Level_High  \\\n",
       "0               0.0                   1.0                 0.0   \n",
       "1               0.0                   0.0                 0.0   \n",
       "2               0.0                   1.0                 0.0   \n",
       "3               0.0                   1.0                 0.0   \n",
       "4               0.0                   0.0                 0.0   \n",
       "\n",
       "   Traffic_Level_Low  Traffic_Level_Medium  \n",
       "0                1.0                   0.0  \n",
       "1                0.0                   1.0  \n",
       "2                1.0                   0.0  \n",
       "3                0.0                   1.0  \n",
       "4                1.0                   0.0  "
      ]
     },
     "execution_count": 28,
     "metadata": {},
     "output_type": "execute_result"
    }
   ],
   "source": [
    "df.head()"
   ]
  },
  {
   "cell_type": "markdown",
   "id": "77018cd1",
   "metadata": {},
   "source": [
    "## Save data"
   ]
  },
  {
   "cell_type": "code",
   "execution_count": 29,
   "id": "8331a83c",
   "metadata": {},
   "outputs": [],
   "source": [
    "df.to_csv(\"../data/testing_data.csv\", index=False)"
   ]
  }
 ],
 "metadata": {
  "kernelspec": {
   "display_name": ".venv",
   "language": "python",
   "name": "python3"
  },
  "language_info": {
   "codemirror_mode": {
    "name": "ipython",
    "version": 3
   },
   "file_extension": ".py",
   "mimetype": "text/x-python",
   "name": "python",
   "nbconvert_exporter": "python",
   "pygments_lexer": "ipython3",
   "version": "3.13.7"
  }
 },
 "nbformat": 4,
 "nbformat_minor": 5
}
